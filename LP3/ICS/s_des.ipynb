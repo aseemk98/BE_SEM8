{
 "cells": [
  {
   "cell_type": "code",
   "execution_count": 6,
   "metadata": {},
   "outputs": [],
   "source": [
    "plain_text = [0,0,1,0,1,0,0,0]\n",
    "key = [1,1,0,0,0,1,1,1,1,0]"
   ]
  },
  {
   "cell_type": "code",
   "execution_count": 31,
   "metadata": {},
   "outputs": [],
   "source": [
    "#generating k1\n",
    "'''\n",
    "steps: p10,shift,p8\n",
    "p10: 3 5 2 7 4 10 1 9 8 6\n",
    "p8 : 6 3 7 4 8 5 10 9\n",
    "'''\n",
    "def p10(arr):\n",
    "    \n",
    "    positions = [3,5,2,7,4,10,1,9,8,6]\n",
    "    res = []\n",
    "    for i in positions:\n",
    "        #print(i-1)\n",
    "        res.append(arr[i-1])\n",
    "    return res\n",
    "\n",
    "\n",
    "#input 10 bit key, output 8 bit key\n",
    "def p8(arr):\n",
    "    positions = [6,3,7,4,8,5,10,9]\n",
    "    res =[]\n",
    "    for i in positions:\n",
    "        res.append(arr[i-1])\n",
    "        \n",
    "    return res\n",
    "\n",
    "#input: 10 bit array, output: 10 bit key\n",
    "def shift(arr):\n",
    "    left = arr[:5]\n",
    "    right = arr[5:]\n",
    "    \n",
    "    #left-r shift the left section\n",
    "    left.append(left.pop(0))\n",
    "    \n",
    "    #left-r shift the right section\n",
    "    right.append(right.pop(0))\n",
    "    \n",
    "    \n",
    "    #compbine both\n",
    "    res = left + right\n",
    "    return res\n",
    "    \n",
    "    \n",
    "    \n",
    "    \n",
    "    "
   ]
  },
  {
   "cell_type": "code",
   "execution_count": null,
   "metadata": {},
   "outputs": [],
   "source": []
  },
  {
   "cell_type": "code",
   "execution_count": 33,
   "metadata": {},
   "outputs": [],
   "source": [
    "#input 10 bit key, output: 8 bit K1\n",
    "def generate_k1(arr):\n",
    "    \n",
    "    #P10\n",
    "    arr_1 = p10(arr)\n",
    "    \n",
    "    #shift once\n",
    "    arr_2 = shift(arr_1)\n",
    "    \n",
    "    #p8\n",
    "    res = p8(arr_2)\n",
    "    return res"
   ]
  },
  {
   "cell_type": "code",
   "execution_count": 35,
   "metadata": {},
   "outputs": [],
   "source": [
    "def generate_k2(arr):\n",
    "    \n",
    "    #P10\n",
    "    arr_1 = p10(arr)\n",
    "    \n",
    "    to_shift = arr_1[:]\n",
    "    #shift thrice\n",
    "    for i in range(3):\n",
    "        to_shift = shift(to_shift)\n",
    "    \n",
    "    #p8\n",
    "    res = p8(to_shift)\n",
    "    return res"
   ]
  },
  {
   "cell_type": "code",
   "execution_count": null,
   "metadata": {},
   "outputs": [],
   "source": []
  },
  {
   "cell_type": "code",
   "execution_count": 37,
   "metadata": {},
   "outputs": [],
   "source": [
    "#input: 8bit key plaintext, output 8 bit key\n",
    "def IP(arr):\n",
    "    positions = [2,6,3,1,4,8,5,7]\n",
    "    res=[]\n",
    "    for i in positions:\n",
    "        res.append(arr[i-1])\n",
    "    return res\n",
    "\n",
    "def IP_inv(arr):\n",
    "    positions = [4,1,3,5,7,2,8,6]\n",
    "    res = []\n",
    "    for i in positions:\n",
    "        res.append(arr[i-1])\n",
    "    return res\n",
    "\n",
    "#input: 4 bit arr, output: 8 bit arr\n",
    "def E_P(arr):\n",
    "    positions = [4,1,2,3,2,3,4,1]\n",
    "    res = []\n",
    "    for pos in positions:\n",
    "        res.append(arr[pos-1])\n",
    "    return pos\n",
    "    \n",
    "def XOR(arr1,arr2):\n",
    "    \n",
    "    \n",
    "    if len(arr1) == len(arr2):\n",
    "        res = []\n",
    "        for i in range(len(arr1)):\n",
    "            res.append(arr1[i]^arr2[i])\n",
    "        return res\n",
    "    else:\n",
    "        print('XOR NOT POSSIBLE')\n",
    "    \n",
    "#input: R, right part of IP(plain), key: 8 bit key(k1 or k2), output: 4bit\n",
    "def F(R,key):\n",
    "    #1. apply E/P\n",
    "    ep_op = E_P(R)\n",
    "    #2. xor EP_op and key (k1 or k2)\n",
    "    xor_op = XOR(ep_op,key)\n",
    "    \n",
    "    \n",
    "    \n",
    "#input: 8 bit input after IP and 8 bit key (k1 or k2)\n",
    "def fk(inp,key):\n",
    "    \n",
    "    #1.split into L,R\n",
    "    L = inp[:4]\n",
    "    R = inp[4:]\n",
    "    #2. apply F function\n",
    "    \n",
    "    \n",
    "    "
   ]
  },
  {
   "cell_type": "code",
   "execution_count": 38,
   "metadata": {},
   "outputs": [],
   "source": [
    "#generate k1 and k2\n",
    "k1 = generate_k1(key)\n",
    "k2 = generate_k2(key)"
   ]
  },
  {
   "cell_type": "code",
   "execution_count": 42,
   "metadata": {},
   "outputs": [],
   "source": [
    "#actual algorithem:\n",
    "\n",
    "#1. apply IP on plaintext\n",
    "ip_output = IP(plain_text)\n",
    "\n",
    "#2. apply fk1"
   ]
  }
 ],
 "metadata": {
  "kernelspec": {
   "display_name": "Python 3",
   "language": "python",
   "name": "python3"
  },
  "language_info": {
   "codemirror_mode": {
    "name": "ipython",
    "version": 3
   },
   "file_extension": ".py",
   "mimetype": "text/x-python",
   "name": "python",
   "nbconvert_exporter": "python",
   "pygments_lexer": "ipython3",
   "version": "3.7.1"
  }
 },
 "nbformat": 4,
 "nbformat_minor": 2
}
