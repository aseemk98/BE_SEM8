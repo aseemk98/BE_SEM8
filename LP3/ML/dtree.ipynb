{
 "cells": [
  {
   "cell_type": "code",
   "execution_count": 1,
   "metadata": {},
   "outputs": [],
   "source": [
    "import numpy as np\n",
    "import pandas as pd\n",
    "import math\n",
    "import operator"
   ]
  },
  {
   "cell_type": "code",
   "execution_count": 2,
   "metadata": {},
   "outputs": [],
   "source": [
    "data = pd.read_csv('/home/becomp/Downloads/data.csv')"
   ]
  },
  {
   "cell_type": "code",
   "execution_count": 3,
   "metadata": {},
   "outputs": [
    {
     "data": {
      "text/html": [
       "<div>\n",
       "<style scoped>\n",
       "    .dataframe tbody tr th:only-of-type {\n",
       "        vertical-align: middle;\n",
       "    }\n",
       "\n",
       "    .dataframe tbody tr th {\n",
       "        vertical-align: top;\n",
       "    }\n",
       "\n",
       "    .dataframe thead th {\n",
       "        text-align: right;\n",
       "    }\n",
       "</style>\n",
       "<table border=\"1\" class=\"dataframe\">\n",
       "  <thead>\n",
       "    <tr style=\"text-align: right;\">\n",
       "      <th></th>\n",
       "      <th>Age</th>\n",
       "      <th>Income</th>\n",
       "      <th>Gender</th>\n",
       "      <th>Marital Status</th>\n",
       "      <th>Buys</th>\n",
       "    </tr>\n",
       "  </thead>\n",
       "  <tbody>\n",
       "    <tr>\n",
       "      <th>0</th>\n",
       "      <td>&lt;21</td>\n",
       "      <td>High</td>\n",
       "      <td>Male</td>\n",
       "      <td>Single</td>\n",
       "      <td>No</td>\n",
       "    </tr>\n",
       "    <tr>\n",
       "      <th>1</th>\n",
       "      <td>&lt;21</td>\n",
       "      <td>High</td>\n",
       "      <td>Male</td>\n",
       "      <td>Married</td>\n",
       "      <td>No</td>\n",
       "    </tr>\n",
       "    <tr>\n",
       "      <th>2</th>\n",
       "      <td>21-35</td>\n",
       "      <td>High</td>\n",
       "      <td>Male</td>\n",
       "      <td>Single</td>\n",
       "      <td>Yes</td>\n",
       "    </tr>\n",
       "    <tr>\n",
       "      <th>3</th>\n",
       "      <td>&gt;35</td>\n",
       "      <td>Medium</td>\n",
       "      <td>Male</td>\n",
       "      <td>Single</td>\n",
       "      <td>Yes</td>\n",
       "    </tr>\n",
       "    <tr>\n",
       "      <th>4</th>\n",
       "      <td>&gt;35</td>\n",
       "      <td>Low</td>\n",
       "      <td>Female</td>\n",
       "      <td>Single</td>\n",
       "      <td>Yes</td>\n",
       "    </tr>\n",
       "    <tr>\n",
       "      <th>5</th>\n",
       "      <td>&gt;35</td>\n",
       "      <td>Low</td>\n",
       "      <td>Female</td>\n",
       "      <td>Married</td>\n",
       "      <td>No</td>\n",
       "    </tr>\n",
       "    <tr>\n",
       "      <th>6</th>\n",
       "      <td>21-35</td>\n",
       "      <td>Low</td>\n",
       "      <td>Female</td>\n",
       "      <td>Married</td>\n",
       "      <td>Yes</td>\n",
       "    </tr>\n",
       "    <tr>\n",
       "      <th>7</th>\n",
       "      <td>&lt;21</td>\n",
       "      <td>Medium</td>\n",
       "      <td>Male</td>\n",
       "      <td>Single</td>\n",
       "      <td>No</td>\n",
       "    </tr>\n",
       "    <tr>\n",
       "      <th>8</th>\n",
       "      <td>&lt;21</td>\n",
       "      <td>Low</td>\n",
       "      <td>Female</td>\n",
       "      <td>Married</td>\n",
       "      <td>Yes</td>\n",
       "    </tr>\n",
       "    <tr>\n",
       "      <th>9</th>\n",
       "      <td>&gt;35</td>\n",
       "      <td>Medium</td>\n",
       "      <td>Female</td>\n",
       "      <td>Single</td>\n",
       "      <td>Yes</td>\n",
       "    </tr>\n",
       "    <tr>\n",
       "      <th>10</th>\n",
       "      <td>&lt;21</td>\n",
       "      <td>Medium</td>\n",
       "      <td>Female</td>\n",
       "      <td>Married</td>\n",
       "      <td>Yes</td>\n",
       "    </tr>\n",
       "    <tr>\n",
       "      <th>11</th>\n",
       "      <td>21-35</td>\n",
       "      <td>Medium</td>\n",
       "      <td>Male</td>\n",
       "      <td>Married</td>\n",
       "      <td>Yes</td>\n",
       "    </tr>\n",
       "    <tr>\n",
       "      <th>12</th>\n",
       "      <td>21-35</td>\n",
       "      <td>High</td>\n",
       "      <td>Female</td>\n",
       "      <td>Single</td>\n",
       "      <td>Yes</td>\n",
       "    </tr>\n",
       "    <tr>\n",
       "      <th>13</th>\n",
       "      <td>&gt;35</td>\n",
       "      <td>Medium</td>\n",
       "      <td>Male</td>\n",
       "      <td>Married</td>\n",
       "      <td>No</td>\n",
       "    </tr>\n",
       "  </tbody>\n",
       "</table>\n",
       "</div>"
      ],
      "text/plain": [
       "      Age  Income  Gender Marital Status Buys\n",
       "0     <21    High    Male         Single   No\n",
       "1     <21    High    Male        Married   No\n",
       "2   21-35    High    Male         Single  Yes\n",
       "3     >35  Medium    Male         Single  Yes\n",
       "4     >35     Low  Female         Single  Yes\n",
       "5     >35     Low  Female        Married   No\n",
       "6   21-35     Low  Female        Married  Yes\n",
       "7     <21  Medium    Male         Single   No\n",
       "8     <21     Low  Female        Married  Yes\n",
       "9     >35  Medium  Female         Single  Yes\n",
       "10    <21  Medium  Female        Married  Yes\n",
       "11  21-35  Medium    Male        Married  Yes\n",
       "12  21-35    High  Female         Single  Yes\n",
       "13    >35  Medium    Male        Married   No"
      ]
     },
     "execution_count": 3,
     "metadata": {},
     "output_type": "execute_result"
    }
   ],
   "source": [
    "data"
   ]
  },
  {
   "cell_type": "code",
   "execution_count": 4,
   "metadata": {},
   "outputs": [],
   "source": [
    "for i,row in data.iterrows():\n",
    "    if row['Age'] == '<21':\n",
    "        data.at[i,'Age']=0\n",
    "    elif row['Age'] == '21-35':\n",
    "        data.at[i,'Age'] = 1\n",
    "    else:\n",
    "        data.at[i,'Age'] = 2"
   ]
  },
  {
   "cell_type": "code",
   "execution_count": 5,
   "metadata": {},
   "outputs": [],
   "source": [
    "for i,row in data.iterrows():\n",
    "    if row['Income'] == 'Low':\n",
    "        data.at[i,'Income'] = 0\n",
    "    elif row['Income'] == 'Medium':\n",
    "        data.at[i,'Income'] = 1\n",
    "    else:\n",
    "        data.at[i,'Income'] = 2"
   ]
  },
  {
   "cell_type": "code",
   "execution_count": 6,
   "metadata": {},
   "outputs": [],
   "source": [
    "for i,row in data.iterrows():\n",
    "    if row['Gender'] == 'Male':\n",
    "        data.at[i,'Gender'] = 0\n",
    "    else:\n",
    "        data.at[i,'Gender'] = 1\n",
    "        \n",
    "    if row['Marital Status'] == 'Single':\n",
    "        data.at[i,'Marital Status'] = 0\n",
    "    else:\n",
    "        data.at[i,'Marital Status'] = 1\n",
    "        \n",
    "    if row['Buys'] == 'No':\n",
    "        data.at[i,'Buys'] = 0\n",
    "    else:\n",
    "        data.at[i,'Buys'] = 1"
   ]
  },
  {
   "cell_type": "code",
   "execution_count": 7,
   "metadata": {},
   "outputs": [
    {
     "data": {
      "text/html": [
       "<div>\n",
       "<style scoped>\n",
       "    .dataframe tbody tr th:only-of-type {\n",
       "        vertical-align: middle;\n",
       "    }\n",
       "\n",
       "    .dataframe tbody tr th {\n",
       "        vertical-align: top;\n",
       "    }\n",
       "\n",
       "    .dataframe thead th {\n",
       "        text-align: right;\n",
       "    }\n",
       "</style>\n",
       "<table border=\"1\" class=\"dataframe\">\n",
       "  <thead>\n",
       "    <tr style=\"text-align: right;\">\n",
       "      <th></th>\n",
       "      <th>Age</th>\n",
       "      <th>Income</th>\n",
       "      <th>Gender</th>\n",
       "      <th>Marital Status</th>\n",
       "      <th>Buys</th>\n",
       "    </tr>\n",
       "  </thead>\n",
       "  <tbody>\n",
       "    <tr>\n",
       "      <th>0</th>\n",
       "      <td>0</td>\n",
       "      <td>2</td>\n",
       "      <td>0</td>\n",
       "      <td>0</td>\n",
       "      <td>0</td>\n",
       "    </tr>\n",
       "    <tr>\n",
       "      <th>1</th>\n",
       "      <td>0</td>\n",
       "      <td>2</td>\n",
       "      <td>0</td>\n",
       "      <td>1</td>\n",
       "      <td>0</td>\n",
       "    </tr>\n",
       "    <tr>\n",
       "      <th>2</th>\n",
       "      <td>1</td>\n",
       "      <td>2</td>\n",
       "      <td>0</td>\n",
       "      <td>0</td>\n",
       "      <td>1</td>\n",
       "    </tr>\n",
       "    <tr>\n",
       "      <th>3</th>\n",
       "      <td>2</td>\n",
       "      <td>1</td>\n",
       "      <td>0</td>\n",
       "      <td>0</td>\n",
       "      <td>1</td>\n",
       "    </tr>\n",
       "    <tr>\n",
       "      <th>4</th>\n",
       "      <td>2</td>\n",
       "      <td>0</td>\n",
       "      <td>1</td>\n",
       "      <td>0</td>\n",
       "      <td>1</td>\n",
       "    </tr>\n",
       "    <tr>\n",
       "      <th>5</th>\n",
       "      <td>2</td>\n",
       "      <td>0</td>\n",
       "      <td>1</td>\n",
       "      <td>1</td>\n",
       "      <td>0</td>\n",
       "    </tr>\n",
       "    <tr>\n",
       "      <th>6</th>\n",
       "      <td>1</td>\n",
       "      <td>0</td>\n",
       "      <td>1</td>\n",
       "      <td>1</td>\n",
       "      <td>1</td>\n",
       "    </tr>\n",
       "    <tr>\n",
       "      <th>7</th>\n",
       "      <td>0</td>\n",
       "      <td>1</td>\n",
       "      <td>0</td>\n",
       "      <td>0</td>\n",
       "      <td>0</td>\n",
       "    </tr>\n",
       "    <tr>\n",
       "      <th>8</th>\n",
       "      <td>0</td>\n",
       "      <td>0</td>\n",
       "      <td>1</td>\n",
       "      <td>1</td>\n",
       "      <td>1</td>\n",
       "    </tr>\n",
       "    <tr>\n",
       "      <th>9</th>\n",
       "      <td>2</td>\n",
       "      <td>1</td>\n",
       "      <td>1</td>\n",
       "      <td>0</td>\n",
       "      <td>1</td>\n",
       "    </tr>\n",
       "    <tr>\n",
       "      <th>10</th>\n",
       "      <td>0</td>\n",
       "      <td>1</td>\n",
       "      <td>1</td>\n",
       "      <td>1</td>\n",
       "      <td>1</td>\n",
       "    </tr>\n",
       "    <tr>\n",
       "      <th>11</th>\n",
       "      <td>1</td>\n",
       "      <td>1</td>\n",
       "      <td>0</td>\n",
       "      <td>1</td>\n",
       "      <td>1</td>\n",
       "    </tr>\n",
       "    <tr>\n",
       "      <th>12</th>\n",
       "      <td>1</td>\n",
       "      <td>2</td>\n",
       "      <td>1</td>\n",
       "      <td>0</td>\n",
       "      <td>1</td>\n",
       "    </tr>\n",
       "    <tr>\n",
       "      <th>13</th>\n",
       "      <td>2</td>\n",
       "      <td>1</td>\n",
       "      <td>0</td>\n",
       "      <td>1</td>\n",
       "      <td>0</td>\n",
       "    </tr>\n",
       "  </tbody>\n",
       "</table>\n",
       "</div>"
      ],
      "text/plain": [
       "   Age Income Gender Marital Status Buys\n",
       "0    0      2      0              0    0\n",
       "1    0      2      0              1    0\n",
       "2    1      2      0              0    1\n",
       "3    2      1      0              0    1\n",
       "4    2      0      1              0    1\n",
       "5    2      0      1              1    0\n",
       "6    1      0      1              1    1\n",
       "7    0      1      0              0    0\n",
       "8    0      0      1              1    1\n",
       "9    2      1      1              0    1\n",
       "10   0      1      1              1    1\n",
       "11   1      1      0              1    1\n",
       "12   1      2      1              0    1\n",
       "13   2      1      0              1    0"
      ]
     },
     "execution_count": 7,
     "metadata": {},
     "output_type": "execute_result"
    }
   ],
   "source": [
    "data"
   ]
  },
  {
   "cell_type": "code",
   "execution_count": 8,
   "metadata": {},
   "outputs": [],
   "source": [
    "#class for node\n",
    "class Node(object):\n",
    "    def __init__(self,data):\n",
    "        self.left = None\n",
    "        self.ldata = None\n",
    "        self.mid = None\n",
    "        self.mdata = None\n",
    "        self.right = None\n",
    "        self.rdata = None\n",
    "        self.data = data\n",
    "        self.entropy = None\n",
    "        self.split_parameter = None\n",
    "        self.isLeaf = False\n",
    "        self.numChild = 0\n",
    "    def calc_entropy(self,a,b):\n",
    "    #a,b are integers\n",
    "        t = a + b\n",
    "        \n",
    "        if a==0 or b==0:\n",
    "            return 0\n",
    "        return -(a/t)*math.log2(a/t) - (b/t)*math.log2(b/t)\n",
    "    def split(self,columns):\n",
    "        \n",
    "        n = len(data)\n",
    "        \n",
    "        #1. calculate base entropy\n",
    "        n_yes = data[data['Buys']==1]['Buys'].count()\n",
    "        n_no = data[data['Buys']==0]['Buys'].count()\n",
    "        base_entropy = self.calc_entropy(n_yes,n_no)\n",
    "        \n",
    "        #if base entropy is 0, generate leaf node\n",
    "        if base_entropy==0:\n",
    "            return 'Leaf'\n",
    "        c_entropys = {}\n",
    "        \n",
    "        if len(columns)==0:\n",
    "            return 'Leaf'\n",
    "        print('columns:',columns)\n",
    "        #2. Calculate conditional entropy for each column\n",
    "        for col in columns:\n",
    "            unique_values = list(data[col].unique())\n",
    "            c_e = 0\n",
    "            for val in unique_values:\n",
    "                num_yes = data[(data[col]==val) & (data['Buys']==1)]['Buys'].count()\n",
    "                num_no = data[(data[col]==val) & (data['Buys']==0)]['Buys'].count()\n",
    "                c_e = c_e + ((num_no+num_yes)/n)*self.calc_entropy(num_yes,num_no)\n",
    "                \n",
    "            c_entropys[col] = c_e\n",
    "        \n",
    "        print(base_entropy)\n",
    "        print(c_entropys)\n",
    "        \n",
    "        #3. choose the column with max info gain\n",
    "        igs = {}\n",
    "        for item in c_entropys:\n",
    "            igs[item] = base_entropy - c_entropys[item]\n",
    "        \n",
    "        print(igs)\n",
    "        max_key = max(igs.items(), key=operator.itemgetter(1))[0]\n",
    "        \n",
    "        self.split_parameter = max_key\n",
    "        \n",
    "        \n",
    "        return max_key\n",
    "            \n",
    "            \n",
    "        \n",
    "        "
   ]
  },
  {
   "cell_type": "code",
   "execution_count": 45,
   "metadata": {},
   "outputs": [],
   "source": [
    "#create root node\n",
    "root = Node(data)"
   ]
  },
  {
   "cell_type": "code",
   "execution_count": 46,
   "metadata": {},
   "outputs": [],
   "source": [
    "columns = list(data)"
   ]
  },
  {
   "cell_type": "code",
   "execution_count": 47,
   "metadata": {},
   "outputs": [
    {
     "data": {
      "text/plain": [
       "['Age', 'Income', 'Gender', 'Marital Status', 'Buys']"
      ]
     },
     "execution_count": 47,
     "metadata": {},
     "output_type": "execute_result"
    }
   ],
   "source": [
    "columns"
   ]
  },
  {
   "cell_type": "code",
   "execution_count": 48,
   "metadata": {},
   "outputs": [],
   "source": [
    "columns.remove('Buys')"
   ]
  },
  {
   "cell_type": "code",
   "execution_count": 49,
   "metadata": {},
   "outputs": [
    {
     "data": {
      "text/plain": [
       "['Age', 'Income', 'Gender', 'Marital Status']"
      ]
     },
     "execution_count": 49,
     "metadata": {},
     "output_type": "execute_result"
    }
   ],
   "source": [
    "columns"
   ]
  },
  {
   "cell_type": "code",
   "execution_count": null,
   "metadata": {},
   "outputs": [],
   "source": []
  },
  {
   "cell_type": "code",
   "execution_count": null,
   "metadata": {},
   "outputs": [],
   "source": []
  },
  {
   "cell_type": "code",
   "execution_count": 50,
   "metadata": {},
   "outputs": [],
   "source": [
    "def IDR3(root,cols):\n",
    "    col = root.split(cols)\n",
    "    print(cols)\n",
    "    #if len(cols) == 0:\n",
    "    #    return\n",
    "    if col=='Leaf':\n",
    "        #make the current node a leaf node\n",
    "        root.isLeaf = True\n",
    "        root.data = list(root.data['Buys'].unique())[0]\n",
    "        print('unique:',root.data)\n",
    "        return\n",
    "    \n",
    "    unique_vals = list(root.data[col].unique())\n",
    "    cols.remove(col)\n",
    "    \n",
    "    if len(unique_vals)==3:\n",
    "        root.ldata = unique_vals[0]\n",
    "        root.mdata = unique_vals[1]\n",
    "        root.rdata = unique_vals[2]\n",
    "\n",
    "        #create nodes\n",
    "        l_node = Node(root.data[root.data[col]== root.ldata])\n",
    "        m_node = Node(root.data[root.data[col]== root.mdata])\n",
    "        r_node = Node(root.data[root.data[col]== root.rdata])\n",
    "\n",
    "        #connect root to the nodes\n",
    "\n",
    "        root.left = l_node\n",
    "        root.mid = m_node\n",
    "        root.right =  r_node\n",
    "        IDR3(l_node,cols)\n",
    "        IDR3(m_node,cols)\n",
    "        IDR3(r_node,cols)\n",
    "        \n",
    "    elif len(unique_vals)==2:\n",
    "        root.ldata = unique_vals[0]\n",
    "        root.rdata = unique_vals[1]\n",
    "\n",
    "        l_node = Node(root.data[root.data[col]== root.ldata])\n",
    "        r_node = Node(root.data[root.data[col]== root.rdata])\n",
    "        root.left = l_node\n",
    "        root.right = r_node\n",
    "        IDR3(l_node,cols)\n",
    "        IDR3(r_node,cols)"
   ]
  },
  {
   "cell_type": "markdown",
   "metadata": {},
   "source": [
    "root.calc_entropy(2,0)"
   ]
  },
  {
   "cell_type": "code",
   "execution_count": 51,
   "metadata": {},
   "outputs": [
    {
     "name": "stdout",
     "output_type": "stream",
     "text": [
      "columns: ['Age', 'Income', 'Gender', 'Marital Status']\n",
      "0.9402859586706309\n",
      "{'Age': 0.6935361388961918, 'Income': 0.9110633930116763, 'Gender': 0.7884504573082896, 'Marital Status': 0.9241743523004413}\n",
      "{'Age': 0.2467498197744391, 'Income': 0.029222565658954647, 'Gender': 0.15183550136234136, 'Marital Status': 0.0161116063701896}\n",
      "['Age', 'Income', 'Gender', 'Marital Status']\n",
      "columns: ['Income', 'Gender', 'Marital Status']\n",
      "0.9402859586706309\n",
      "{'Income': 0.9110633930116763, 'Gender': 0.7884504573082896, 'Marital Status': 0.9241743523004413}\n",
      "{'Income': 0.029222565658954647, 'Gender': 0.15183550136234136, 'Marital Status': 0.0161116063701896}\n",
      "['Income', 'Gender', 'Marital Status']\n",
      "columns: ['Income', 'Marital Status']\n",
      "0.9402859586706309\n",
      "{'Income': 0.9110633930116763, 'Marital Status': 0.9241743523004413}\n",
      "{'Income': 0.029222565658954647, 'Marital Status': 0.0161116063701896}\n",
      "['Income', 'Marital Status']\n",
      "columns: ['Marital Status']\n",
      "0.9402859586706309\n",
      "{'Marital Status': 0.9241743523004413}\n",
      "{'Marital Status': 0.0161116063701896}\n",
      "['Marital Status']\n",
      "[]\n",
      "unique: 0\n",
      "[]\n",
      "unique: 0\n",
      "[]\n",
      "unique: 0\n",
      "[]\n",
      "unique: 1\n",
      "[]\n",
      "unique: 1\n",
      "[]\n",
      "unique: 1\n"
     ]
    }
   ],
   "source": [
    "IDR3(root,columns)"
   ]
  },
  {
   "cell_type": "code",
   "execution_count": null,
   "metadata": {},
   "outputs": [],
   "source": []
  },
  {
   "cell_type": "code",
   "execution_count": 52,
   "metadata": {},
   "outputs": [],
   "source": [
    "def BFS(root):\n",
    "    q = []\n",
    "    q.append(root)\n",
    "    \n",
    "    \n",
    "    while(len(q)!=0):\n",
    "        n = q[0]\n",
    "        q.pop(0)\n",
    "        print(n.split_parameter)\n",
    "        if n.left is not None and n.left.split_parameter is not None:\n",
    "            q.append(n.left)\n",
    "            \n",
    "        if n.mid is not None and n.mid.split_parameter is not None:\n",
    "            q.append(n.mid)\n",
    "        if n.right is not None and n.right.split_parameter is not None:\n",
    "            q.append(n.right)"
   ]
  },
  {
   "cell_type": "code",
   "execution_count": 53,
   "metadata": {},
   "outputs": [
    {
     "name": "stdout",
     "output_type": "stream",
     "text": [
      "Age\n",
      "Gender\n",
      "Income\n",
      "Marital Status\n"
     ]
    }
   ],
   "source": [
    "BFS(root)"
   ]
  },
  {
   "cell_type": "code",
   "execution_count": 54,
   "metadata": {},
   "outputs": [],
   "source": [
    "def traverse_tree(root,data):\n",
    "    #data will be in the form of a dictionary and preprocessed\n",
    "    node = root\n",
    "    while(node.isLeaf==False):\n",
    "        print(node.split_parameter)\n",
    "        x = data[node.split_parameter]\n",
    "        if node.ldata==x:\n",
    "            node=node.left\n",
    "        elif node.mdata==x:\n",
    "            node = node.mid\n",
    "        else:\n",
    "            node = node.right\n",
    "    print(node.data)"
   ]
  },
  {
   "cell_type": "code",
   "execution_count": null,
   "metadata": {},
   "outputs": [],
   "source": [
    "data.head(4)"
   ]
  },
  {
   "cell_type": "code",
   "execution_count": null,
   "metadata": {},
   "outputs": [],
   "source": [
    "sample = {'Age':0,'Income':2,'Gender':0,'Marital Status':0}"
   ]
  },
  {
   "cell_type": "code",
   "execution_count": null,
   "metadata": {},
   "outputs": [],
   "source": [
    "sample[root.split_parameter]"
   ]
  },
  {
   "cell_type": "code",
   "execution_count": null,
   "metadata": {},
   "outputs": [],
   "source": [
    "traverse_tree(root,{'Age':2,'Income':2,'Gender':0,'Marital Status':0})"
   ]
  },
  {
   "cell_type": "code",
   "execution_count": null,
   "metadata": {},
   "outputs": [],
   "source": [
    "s_dict = {'a':45}"
   ]
  },
  {
   "cell_type": "code",
   "execution_count": null,
   "metadata": {},
   "outputs": [],
   "source": [
    "s_dict.items()"
   ]
  },
  {
   "cell_type": "code",
   "execution_count": null,
   "metadata": {},
   "outputs": [],
   "source": [
    "max(s_dict.items(), key=operator.itemgetter(1))[0]"
   ]
  },
  {
   "cell_type": "code",
   "execution_count": null,
   "metadata": {},
   "outputs": [],
   "source": [
    "root.left.mid is None"
   ]
  },
  {
   "cell_type": "code",
   "execution_count": 25,
   "metadata": {},
   "outputs": [],
   "source": [
    "s = data[data['Buys']==1]"
   ]
  },
  {
   "cell_type": "code",
   "execution_count": 29,
   "metadata": {},
   "outputs": [
    {
     "data": {
      "text/plain": [
       "1"
      ]
     },
     "execution_count": 29,
     "metadata": {},
     "output_type": "execute_result"
    }
   ],
   "source": [
    "list(s['Buys'].unique())[0]"
   ]
  },
  {
   "cell_type": "code",
   "execution_count": null,
   "metadata": {},
   "outputs": [],
   "source": []
  }
 ],
 "metadata": {
  "kernelspec": {
   "display_name": "Python 3",
   "language": "python",
   "name": "python3"
  },
  "language_info": {
   "codemirror_mode": {
    "name": "ipython",
    "version": 3
   },
   "file_extension": ".py",
   "mimetype": "text/x-python",
   "name": "python",
   "nbconvert_exporter": "python",
   "pygments_lexer": "ipython3",
   "version": "3.7.1"
  }
 },
 "nbformat": 4,
 "nbformat_minor": 2
}
